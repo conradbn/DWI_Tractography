{
 "cells": [
  {
   "cell_type": "code",
   "execution_count": null,
   "id": "b6180f0e",
   "metadata": {},
   "outputs": [],
   "source": [
    "import os \n",
    "from glob import glob \n",
    "from datetime import datetime\n",
    "import DWI_Tractography_Pipeline_MRtrix3 as pipeline\n",
    "\n",
    "# Specify the output directory (likely on server)\n",
    "path_out = '/Volumes/ppm/PPM/Data/1196_Preg5/dwi'\n",
    "\n",
    "# Specify the temporary processing directory (ideally on local hardrive)\n",
    "# Add unique date string to the folder name (down to seconds)\n",
    "path_tmp = '/Users/sealab/Desktop/tmp_proc/tmp_' + datetime.now().strftime('%Y-%m-%d-%H-%M-%S')\n",
    "\n",
    "# Specify inputs (requires full paths)\n",
    "# Primary DWI data \n",
    "dwi = glob(f'{path_out}/DICOM/*DWI*dir*')\n",
    "# Reverse phase-encoded scan\n",
    "revPE = glob(f'{path_out}/DICOM/*DWI*revPE*')\n",
    "\n",
    "# NOTE the brain.finalsurfs.mgz and aseg.mgz are manually copied to dwi folder\n",
    "# Anatomical T1w image from FreeSurfer\n",
    "struct = f'{path_out}/brain.finalsurfs.mgz' \n",
    "# Segmentation file from FreeSufer\n",
    "aseg = f'{path_out}/aseg.mgz'\n",
    "\n",
    "# Set the number of streamlines to generate for (wholebrain) tractography\n",
    "n_streamlines = '10M'\n",
    "# Set number of CPU threads to use during parallelized MRtrix3 commands\n",
    "n_threads = '12'\n",
    "\n",
    "# Report the input files (consider verifying before proceeding)\n",
    "dwi, revPE, struct, aseg = pipeline.check_inputs(path_out, path_tmp, dwi, revPE, struct, aseg, n_streamlines)\n"
   ]
  },
  {
   "cell_type": "code",
   "execution_count": null,
   "id": "5f828866",
   "metadata": {},
   "outputs": [],
   "source": [
    "# Run each step of pipeline\n",
    "pipeline.copy_data_to_tmp_directory(path_tmp, dwi, revPE, struct, aseg)\n",
    "pipeline.prep_data(path_tmp, dwi, revPE, n_threads)\n",
    "pipeline.run_denoising(path_tmp, n_threads)\n",
    "pipeline.run_topup_and_eddy(path_tmp, n_threads)\n",
    "pipeline.prep_seg_for_ACT(path_tmp, aseg, struct, n_threads)\n",
    "pipeline.estimate_resp_function(path_tmp, n_threads)\n",
    "pipeline.run_csd(path_tmp, n_threads)\n",
    "pipeline.generate_streamlines_and_run_sift2(path_tmp, n_streamlines, n_threads)\n",
    "pipeline.copy_data_to_output_directory(path_out, path_tmp, n_streamlines)\n",
    "pipeline.create_post_process_QA_figure(path_out)\n",
    "pipeline.clear_tmp(path_out, path_tmp, n_streamlines)"
   ]
  }
 ],
 "metadata": {
  "kernelspec": {
   "display_name": "Python 3 (ipykernel)",
   "language": "python",
   "name": "python3"
  },
  "language_info": {
   "codemirror_mode": {
    "name": "ipython",
    "version": 3
   },
   "file_extension": ".py",
   "mimetype": "text/x-python",
   "name": "python",
   "nbconvert_exporter": "python",
   "pygments_lexer": "ipython3",
   "version": "3.9.6"
  }
 },
 "nbformat": 4,
 "nbformat_minor": 5
}
